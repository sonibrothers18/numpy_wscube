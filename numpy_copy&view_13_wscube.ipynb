{
 "cells": [
  {
   "cell_type": "code",
   "execution_count": 1,
   "id": "d3df1bc0-a9e1-444f-8dfc-de2cf5f1a2c7",
   "metadata": {},
   "outputs": [],
   "source": [
    "import numpy as np"
   ]
  },
  {
   "cell_type": "markdown",
   "id": "ae4eb522-fcf1-4c38-a111-1ff6486d3717",
   "metadata": {},
   "source": [
    "copy --> change in copy does not change in original\n",
    "view --> change in view also change in original"
   ]
  },
  {
   "cell_type": "markdown",
   "id": "1163d028-361c-4f66-82d5-3b085086a5b3",
   "metadata": {},
   "source": [
    "# copy -->"
   ]
  },
  {
   "cell_type": "code",
   "execution_count": 7,
   "id": "6e256162-866f-4e7a-af76-20fc657f33f5",
   "metadata": {},
   "outputs": [
    {
     "name": "stdout",
     "output_type": "stream",
     "text": [
      "x:  [1 2 3 4]\n",
      "copy:  [1 2 3 4]\n"
     ]
    }
   ],
   "source": [
    "x = np.array([1,2,3,4])\n",
    "\n",
    "co = x.copy()\n",
    "\n",
    "print(\"x: \", x)\n",
    "print(\"copy: \", co)"
   ]
  },
  {
   "cell_type": "code",
   "execution_count": 6,
   "id": "b30e323c-2872-4a3b-a8b0-6655373df0f4",
   "metadata": {},
   "outputs": [
    {
     "name": "stdout",
     "output_type": "stream",
     "text": [
      "x:  [1 2 3 4]\n",
      "view:  [1 2 3 4]\n"
     ]
    }
   ],
   "source": [
    "x = np.array([1,2,3,4])\n",
    "\n",
    "vi = x.view()\n",
    "\n",
    "print(\"x: \", x)\n",
    "print(\"view: \", vi)"
   ]
  }
 ],
 "metadata": {
  "kernelspec": {
   "display_name": "Python 3 (ipykernel)",
   "language": "python",
   "name": "python3"
  },
  "language_info": {
   "codemirror_mode": {
    "name": "ipython",
    "version": 3
   },
   "file_extension": ".py",
   "mimetype": "text/x-python",
   "name": "python",
   "nbconvert_exporter": "python",
   "pygments_lexer": "ipython3",
   "version": "3.12.5"
  }
 },
 "nbformat": 4,
 "nbformat_minor": 5
}
