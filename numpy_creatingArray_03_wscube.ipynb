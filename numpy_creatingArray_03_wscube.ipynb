{
 "cells": [
  {
   "cell_type": "code",
   "execution_count": 1,
   "id": "82abc760-1a7e-4367-ad86-3aa41681aebe",
   "metadata": {},
   "outputs": [],
   "source": [
    "import numpy as np"
   ]
  },
  {
   "cell_type": "markdown",
   "id": "7623cff0-a684-4580-ac17-0794796a5415",
   "metadata": {},
   "source": [
    "# Creating array -->"
   ]
  },
  {
   "cell_type": "code",
   "execution_count": 2,
   "id": "0445650e-8d1b-4e45-8ea8-aa7522c4f5ac",
   "metadata": {},
   "outputs": [
    {
     "name": "stdout",
     "output_type": "stream",
     "text": [
      "[1 2 3 4 5 6]\n"
     ]
    }
   ],
   "source": [
    "a = np.array([1,2,3,4,5,6]) # creating array using list\n",
    "print(a)"
   ]
  },
  {
   "cell_type": "code",
   "execution_count": 3,
   "id": "0546b149-3d44-49ea-b5a7-cbc2d10a91f2",
   "metadata": {},
   "outputs": [
    {
     "name": "stdout",
     "output_type": "stream",
     "text": [
      "[1 2 3 4 5 6]\n"
     ]
    }
   ],
   "source": [
    "a = [1,2,3,4,5,6]\n",
    "x = np.array(a) #creating array using list variable\n",
    "print(x)"
   ]
  },
  {
   "cell_type": "code",
   "execution_count": 9,
   "id": "46f29a08-bfb7-488d-a351-3f20d7e91b4f",
   "metadata": {},
   "outputs": [
    {
     "name": "stdin",
     "output_type": "stream",
     "text": [
      "Enter your number:  5\n",
      "Enter your number:  5\n",
      "Enter your number:  5\n",
      "Enter your number:  5\n"
     ]
    },
    {
     "name": "stdout",
     "output_type": "stream",
     "text": [
      "[5 5 5 5]\n"
     ]
    }
   ],
   "source": [
    "l = []\n",
    "\n",
    "# Creating array using user input\n",
    "for i in range(1, 5):\n",
    "    value = int(input(\"Enter your number: \"))\n",
    "    l.append(value)\n",
    "\n",
    "print(np.array(l))"
   ]
  },
  {
   "cell_type": "markdown",
   "id": "437d3da9-5029-4eb8-92d9-032badfdb6ee",
   "metadata": {},
   "source": [
    "# Different dimensions array -->"
   ]
  },
  {
   "cell_type": "code",
   "execution_count": 19,
   "id": "8d33bbca-daba-40c5-b44b-ce10910f6253",
   "metadata": {},
   "outputs": [
    {
     "name": "stdout",
     "output_type": "stream",
     "text": [
      "[10 20 30 40 50]\n",
      "1\n"
     ]
    }
   ],
   "source": [
    "x = np.array([10,20,30,40,50]) # 1d array\n",
    "print(x)\n",
    "\n",
    "print(x.ndim) # determine the dimension of array"
   ]
  },
  {
   "cell_type": "code",
   "execution_count": 14,
   "id": "db7b71d0-9624-4b59-bff2-4d34604a81c9",
   "metadata": {},
   "outputs": [
    {
     "name": "stdout",
     "output_type": "stream",
     "text": [
      "[[10 20 30 40]\n",
      " [50 60 70 80]]\n",
      "2\n"
     ]
    }
   ],
   "source": [
    "x = np.array([[10,20,30,40], [50,60,70,80]]) # 2d array\n",
    "print(x)\n",
    "\n",
    "print(x.ndim) # determine the dimension of array"
   ]
  },
  {
   "cell_type": "code",
   "execution_count": 15,
   "id": "1245c4ce-7ffa-4b55-8b0a-f6630c7e973b",
   "metadata": {},
   "outputs": [
    {
     "name": "stdout",
     "output_type": "stream",
     "text": [
      "[[[10 20 30 40]\n",
      "  [50 60 70 80]]]\n",
      "3\n"
     ]
    }
   ],
   "source": [
    "x = np.array([[[10,20,30,40], [50,60,70,80]]]) # 3d array\n",
    "print(x)\n",
    "\n",
    "print(x.ndim) # determine the dimension of array"
   ]
  },
  {
   "cell_type": "code",
   "execution_count": 18,
   "id": "e01399e0-e7c0-4529-9b8d-da68e75a3ba2",
   "metadata": {},
   "outputs": [
    {
     "name": "stdout",
     "output_type": "stream",
     "text": [
      "[[[[[[[[[[10 20 30 40]]]]]]]]]]\n",
      "10\n"
     ]
    }
   ],
   "source": [
    "x = np.array([10,20,30,40], ndmin=10) # creating 10d array\n",
    "print(x)\n",
    "\n",
    "print(x.ndim) # determine the dimension of array"
   ]
  }
 ],
 "metadata": {
  "kernelspec": {
   "display_name": "Python 3 (ipykernel)",
   "language": "python",
   "name": "python3"
  },
  "language_info": {
   "codemirror_mode": {
    "name": "ipython",
    "version": 3
   },
   "file_extension": ".py",
   "mimetype": "text/x-python",
   "name": "python",
   "nbconvert_exporter": "python",
   "pygments_lexer": "ipython3",
   "version": "3.12.5"
  }
 },
 "nbformat": 4,
 "nbformat_minor": 5
}
