{
 "cells": [
  {
   "cell_type": "code",
   "execution_count": 3,
   "id": "03872489-5595-4fa9-87da-c81c4df5e593",
   "metadata": {},
   "outputs": [],
   "source": [
    "import numpy as np"
   ]
  },
  {
   "cell_type": "markdown",
   "id": "0aec14eb-1566-43a0-a1f8-4539c5a08642",
   "metadata": {},
   "source": [
    "# shape -->"
   ]
  },
  {
   "cell_type": "code",
   "execution_count": 12,
   "id": "7e3c9964-3c96-489b-b121-d593e23ee22e",
   "metadata": {},
   "outputs": [
    {
     "name": "stdout",
     "output_type": "stream",
     "text": [
      "[[1 2 3 4]\n",
      " [1 2 3 4]]\n",
      "\n",
      "Shape of x:  (2, 4)\n"
     ]
    }
   ],
   "source": [
    "x = np.array([[1,2,3,4], [1,2,3,4]])\n",
    "\n",
    "print(x)\n",
    "print()\n",
    "print(\"Shape of x: \",x.shape) # print number of rows and column"
   ]
  },
  {
   "cell_type": "markdown",
   "id": "3216065e-3415-473d-89d3-5f15a3de8b99",
   "metadata": {},
   "source": [
    "# reshape -->"
   ]
  },
  {
   "cell_type": "code",
   "execution_count": 16,
   "id": "fc86dad8-d1ff-4b1a-b56c-df8a78839649",
   "metadata": {},
   "outputs": [
    {
     "name": "stdout",
     "output_type": "stream",
     "text": [
      "[1 2 3 4 5 6]\n",
      "1\n",
      "\n",
      "[[1 2]\n",
      " [3 4]\n",
      " [5 6]]\n",
      "2\n"
     ]
    }
   ],
   "source": [
    "x = np.array([1,2,3,4,5,6])\n",
    "print(x)\n",
    "print(x.ndim)\n",
    "\n",
    "print()\n",
    "\n",
    "new = x.reshape(3, 2) # change the dimension of x to 2D with 3 rows & 2 columns\n",
    "print(new)\n",
    "print(new.ndim)"
   ]
  },
  {
   "cell_type": "code",
   "execution_count": 31,
   "id": "dcae5492-7474-43e8-a772-07c8016ec558",
   "metadata": {},
   "outputs": [
    {
     "name": "stdout",
     "output_type": "stream",
     "text": [
      "[ 1  2  3  4  5  6  7  8  9 10 11 12]\n",
      "Dim of x:  1\n",
      "---------------\n",
      "[[[ 1  2]\n",
      "  [ 3  4]\n",
      "  [ 5  6]]\n",
      "\n",
      " [[ 7  8]\n",
      "  [ 9 10]\n",
      "  [11 12]]]\n",
      "Dim of new:  3\n",
      "---------------\n",
      "[ 1  2  3  4  5  6  7  8  9 10 11 12]\n",
      "Dim of old:  1\n"
     ]
    }
   ],
   "source": [
    "x = np.array([1,2,3,4,5,6,7,8,9,10,11,12])\n",
    "print(x)\n",
    "print(\"Dim of x: \",x.ndim)\n",
    "\n",
    "print(\"---------------\")\n",
    "\n",
    "new = x.reshape(2,3,2) # change the dimension of x to 3D with 2 rows, 3 rows & 2 columns\n",
    "print(new)\n",
    "print(\"Dim of new: \",new.ndim)\n",
    "\n",
    "print(\"---------------\")\n",
    "\n",
    "old = new.reshape(-1) # change the dimension of new to 1D\n",
    "print(old)\n",
    "print(\"Dim of old: \",old.ndim)"
   ]
  }
 ],
 "metadata": {
  "kernelspec": {
   "display_name": "Python 3 (ipykernel)",
   "language": "python",
   "name": "python3"
  },
  "language_info": {
   "codemirror_mode": {
    "name": "ipython",
    "version": 3
   },
   "file_extension": ".py",
   "mimetype": "text/x-python",
   "name": "python",
   "nbconvert_exporter": "python",
   "pygments_lexer": "ipython3",
   "version": "3.12.5"
  }
 },
 "nbformat": 4,
 "nbformat_minor": 5
}
