{
 "cells": [
  {
   "cell_type": "code",
   "execution_count": 1,
   "id": "80e8b7dc-511c-435a-93da-e1277bb44db9",
   "metadata": {},
   "outputs": [],
   "source": [
    "import numpy as np"
   ]
  },
  {
   "cell_type": "markdown",
   "id": "722beab8-fe4b-404c-985a-4162d49e3a36",
   "metadata": {},
   "source": [
    "# rand -->"
   ]
  },
  {
   "cell_type": "code",
   "execution_count": 2,
   "id": "7a400057-a161-4cab-a4ae-aba25f15c912",
   "metadata": {},
   "outputs": [
    {
     "name": "stdout",
     "output_type": "stream",
     "text": [
      "[0.27771238 0.72938073 0.59057178 0.90263838]\n"
     ]
    }
   ],
   "source": [
    "x = np.random.rand(4) # create an array of 4 random elements between 0 & 1 \n",
    "print(x)"
   ]
  },
  {
   "cell_type": "code",
   "execution_count": 3,
   "id": "119402b6-74c7-45f2-983f-4af9bf59cd9d",
   "metadata": {},
   "outputs": [
    {
     "name": "stdout",
     "output_type": "stream",
     "text": [
      "[[0.5617857  0.11293154 0.56188306 0.14587557]\n",
      " [0.33838576 0.05168502 0.95622472 0.52941004]]\n"
     ]
    }
   ],
   "source": [
    "x = np.random.rand(2, 4) # create an 2D array of random elements between 0 & 1 with 2 rows & 4 column\n",
    "print(x)"
   ]
  },
  {
   "cell_type": "markdown",
   "id": "84e6b711-ad2d-4bd3-9a53-017c8561c3b8",
   "metadata": {},
   "source": [
    "# randn -->"
   ]
  },
  {
   "cell_type": "code",
   "execution_count": 4,
   "id": "5fd44bfc-39c0-4194-8cb4-b3f7d0c3ef06",
   "metadata": {},
   "outputs": [
    {
     "name": "stdout",
     "output_type": "stream",
     "text": [
      "[-0.67176903  3.03922818  0.19562938  0.61864455 -0.35051356]\n"
     ]
    }
   ],
   "source": [
    "x = np.random.randn(5) # create an array of 5 size with random elements close to 0 including -ve numbers\n",
    "print(x)"
   ]
  },
  {
   "cell_type": "markdown",
   "id": "b1d464fd-9a85-4dca-a219-a8f9e2c5eee5",
   "metadata": {},
   "source": [
    "# ranf -->"
   ]
  },
  {
   "cell_type": "code",
   "execution_count": 5,
   "id": "523debd3-bba5-460a-a955-4ebf3d421713",
   "metadata": {},
   "outputs": [
    {
     "name": "stdout",
     "output_type": "stream",
     "text": [
      "[0.23035881 0.8760513  0.98474057 0.51296935]\n"
     ]
    }
   ],
   "source": [
    "x = np.random.ranf(4) # create an array of float of 4 size with random elements between 0.0 & 1.0(excluding 1.0)\n",
    "print(x)"
   ]
  },
  {
   "cell_type": "markdown",
   "id": "47d5a1c6-bd22-4e5b-8a8d-1f1c9c253d62",
   "metadata": {},
   "source": [
    "# randint -->"
   ]
  },
  {
   "cell_type": "code",
   "execution_count": 6,
   "id": "386722ef-de0f-4dec-89f5-20b869544bcc",
   "metadata": {},
   "outputs": [
    {
     "name": "stdout",
     "output_type": "stream",
     "text": [
      "[105 107 124 107 151 173 166 142 154 101]\n"
     ]
    }
   ],
   "source": [
    "x = np.random.randint(100, 200, 10) # create an array of 10 size with random elements between 100 & 200\n",
    "print(x)"
   ]
  }
 ],
 "metadata": {
  "kernelspec": {
   "display_name": "Python 3 (ipykernel)",
   "language": "python",
   "name": "python3"
  },
  "language_info": {
   "codemirror_mode": {
    "name": "ipython",
    "version": 3
   },
   "file_extension": ".py",
   "mimetype": "text/x-python",
   "name": "python",
   "nbconvert_exporter": "python",
   "pygments_lexer": "ipython3",
   "version": "3.12.5"
  }
 },
 "nbformat": 4,
 "nbformat_minor": 5
}
