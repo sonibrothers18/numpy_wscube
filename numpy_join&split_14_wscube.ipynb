{
 "cells": [
  {
   "cell_type": "code",
   "execution_count": 1,
   "id": "29e06427-d0ba-45f8-88ba-9ac598cda299",
   "metadata": {},
   "outputs": [],
   "source": [
    "import numpy as np"
   ]
  },
  {
   "cell_type": "raw",
   "id": "c175fed9-fe0f-423f-aedb-75a50499c61a",
   "metadata": {},
   "source": [
    "number of elements in both arrays should be same"
   ]
  },
  {
   "cell_type": "markdown",
   "id": "ed3e5827-2dab-4ef7-adb2-750751327a23",
   "metadata": {},
   "source": [
    "# Join Array -->"
   ]
  },
  {
   "cell_type": "code",
   "execution_count": 8,
   "id": "56757b6c-c650-4845-9ea7-63ddb2147066",
   "metadata": {},
   "outputs": [
    {
     "name": "stdout",
     "output_type": "stream",
     "text": [
      "[1 2 3 4 9 8 7 6]\n"
     ]
    }
   ],
   "source": [
    "x1 = np.array([1,2,3,4])\n",
    "x2 = np.array([9,8,7,6])\n",
    "\n",
    "new = np.concatenate((x1, x2))\n",
    "\n",
    "print(new)"
   ]
  },
  {
   "cell_type": "code",
   "execution_count": 27,
   "id": "e40e129f-7934-43eb-8275-6feb308111fe",
   "metadata": {},
   "outputs": [
    {
     "name": "stdout",
     "output_type": "stream",
     "text": [
      "[[1 2]\n",
      " [3 4]]\n",
      "-------------------\n",
      "[[9 8]\n",
      " [7 6]]\n",
      "-------------------\n",
      "axis=0\n",
      " [[1 2]\n",
      " [3 4]\n",
      " [9 8]\n",
      " [7 6]]\n",
      "-------------------\n",
      "axis=1\n",
      " [[1 2 9 8]\n",
      " [3 4 7 6]]\n"
     ]
    }
   ],
   "source": [
    "x1 = np.array([[1,2], [3,4]])\n",
    "x2 = np.array([[9,8], [7,6]])\n",
    "\n",
    "print(x1)\n",
    "print(\"-------------------\")\n",
    "print(x2)\n",
    "print(\"-------------------\")\n",
    "\n",
    "\n",
    "new1 = np.concatenate((x1, x2), axis=0)\n",
    "new2 = np.concatenate((x1, x2), axis=1)\n",
    "\n",
    "print(\"axis=0\\n\", new1)\n",
    "print(\"-------------------\")\n",
    "print(\"axis=1\\n\", new2)"
   ]
  },
  {
   "cell_type": "code",
   "execution_count": 28,
   "id": "0eb512ef-3bc9-48b5-8ff2-486971f6f502",
   "metadata": {},
   "outputs": [],
   "source": [
    "# stack is left"
   ]
  },
  {
   "cell_type": "markdown",
   "id": "e72a5ef4-a876-4b97-a847-fd4024a981c9",
   "metadata": {},
   "source": [
    "# Split Array -->"
   ]
  },
  {
   "cell_type": "code",
   "execution_count": 38,
   "id": "d67f960b-1322-4cad-8e4a-749e6588c6e7",
   "metadata": {},
   "outputs": [
    {
     "name": "stdout",
     "output_type": "stream",
     "text": [
      "[1 2 3 4 5 6]\n",
      "------------------------\n",
      "[array([1, 2]), array([3, 4]), array([5]), array([6])]\n",
      "type of new:  <class 'list'>\n",
      "[3 4]\n"
     ]
    }
   ],
   "source": [
    "x = np.array([1,2,3,4,5,6])\n",
    "print(x)\n",
    "print(\"------------------------\")\n",
    "\n",
    "new = np.array_split(x, 4) # data will be stored in a list\n",
    "print(new)\n",
    "print(\"type of new: \",type(new))\n",
    "\n",
    "print(new[1])"
   ]
  }
 ],
 "metadata": {
  "kernelspec": {
   "display_name": "Python 3 (ipykernel)",
   "language": "python",
   "name": "python3"
  },
  "language_info": {
   "codemirror_mode": {
    "name": "ipython",
    "version": 3
   },
   "file_extension": ".py",
   "mimetype": "text/x-python",
   "name": "python",
   "nbconvert_exporter": "python",
   "pygments_lexer": "ipython3",
   "version": "3.12.5"
  }
 },
 "nbformat": 4,
 "nbformat_minor": 5
}
