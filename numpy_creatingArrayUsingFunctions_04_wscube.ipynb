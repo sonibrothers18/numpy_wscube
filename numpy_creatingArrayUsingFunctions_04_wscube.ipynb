{
 "cells": [
  {
   "cell_type": "code",
   "execution_count": 1,
   "id": "048c6c86-d72e-49f8-9881-b2838ec14745",
   "metadata": {},
   "outputs": [],
   "source": [
    "import numpy as np"
   ]
  },
  {
   "cell_type": "markdown",
   "id": "a9b4d616-e534-4827-9ab7-00ff77b0f740",
   "metadata": {},
   "source": [
    "# zeros -->"
   ]
  },
  {
   "cell_type": "code",
   "execution_count": 2,
   "id": "ea72cc42-83ef-43ed-9343-166b6b704dbd",
   "metadata": {},
   "outputs": [
    {
     "name": "stdout",
     "output_type": "stream",
     "text": [
      "[0. 0. 0. 0.]\n"
     ]
    }
   ],
   "source": [
    "zero = np.zeros(4) # creating array with all elements zero\n",
    "print(zero)"
   ]
  },
  {
   "cell_type": "code",
   "execution_count": 3,
   "id": "1ddae797-9a6e-4c7b-80df-8ae53d722f08",
   "metadata": {},
   "outputs": [
    {
     "name": "stdout",
     "output_type": "stream",
     "text": [
      "[[0. 0. 0. 0.]\n",
      " [0. 0. 0. 0.]\n",
      " [0. 0. 0. 0.]]\n"
     ]
    }
   ],
   "source": [
    "zero = np.zeros((3, 4)) # creating 2d array with all elements zero\n",
    "print(zero)"
   ]
  },
  {
   "cell_type": "markdown",
   "id": "53d1799f-fb8f-442e-a53f-aed628217922",
   "metadata": {},
   "source": [
    "# ones -->"
   ]
  },
  {
   "cell_type": "code",
   "execution_count": 4,
   "id": "fa51a0ff-323c-43b0-8749-121374b554d6",
   "metadata": {},
   "outputs": [
    {
     "name": "stdout",
     "output_type": "stream",
     "text": [
      "[1. 1. 1. 1.]\n"
     ]
    }
   ],
   "source": [
    "one = np.ones(4) # creating array with all elements one\n",
    "print(one)"
   ]
  },
  {
   "cell_type": "code",
   "execution_count": 5,
   "id": "34dd6f17-460b-469c-82c9-2f87e305f060",
   "metadata": {},
   "outputs": [
    {
     "name": "stdout",
     "output_type": "stream",
     "text": [
      "[[1. 1. 1. 1.]\n",
      " [1. 1. 1. 1.]\n",
      " [1. 1. 1. 1.]]\n"
     ]
    }
   ],
   "source": [
    "one = np.ones((3, 4)) # creating 2d array with all elements one\n",
    "print(one)"
   ]
  },
  {
   "cell_type": "markdown",
   "id": "092dda38-9d1e-4233-b5dd-519a8a641fc0",
   "metadata": {},
   "source": [
    "# empty -->"
   ]
  },
  {
   "cell_type": "code",
   "execution_count": 6,
   "id": "d4c16b97-9afc-47ad-9dfe-29ad3ed6662b",
   "metadata": {},
   "outputs": [
    {
     "name": "stdout",
     "output_type": "stream",
     "text": [
      "[1. 1. 1. 1.]\n"
     ]
    }
   ],
   "source": [
    "empty = np.empty(4) # create an empty array with size 4\n",
    "print(empty)\n",
    "\n",
    "# zeros are shown because of old memory"
   ]
  },
  {
   "cell_type": "markdown",
   "id": "45e39050-8ca9-47d8-9b43-01e41c8096e5",
   "metadata": {},
   "source": [
    "# arange -->"
   ]
  },
  {
   "cell_type": "code",
   "execution_count": 7,
   "id": "d3c2bb78-b602-47d4-a3d9-9db216a549d3",
   "metadata": {},
   "outputs": [
    {
     "name": "stdout",
     "output_type": "stream",
     "text": [
      "[0 1 2 3]\n"
     ]
    }
   ],
   "source": [
    "x = np.arange(4) # create an array of size 4 with values from 0 to 3\n",
    "print(x)"
   ]
  },
  {
   "cell_type": "markdown",
   "id": "7e059775-976c-4cad-824c-9e9820d86d1c",
   "metadata": {},
   "source": [
    "# Diagonal(eye) -->"
   ]
  },
  {
   "cell_type": "code",
   "execution_count": 8,
   "id": "ba710e28-b8c1-4ad9-bb7b-889adddac4fc",
   "metadata": {},
   "outputs": [
    {
     "name": "stdout",
     "output_type": "stream",
     "text": [
      "[[1. 0. 0.]\n",
      " [0. 1. 0.]\n",
      " [0. 0. 1.]]\n"
     ]
    }
   ],
   "source": [
    "diagonal = np.eye(3) # create 2d digonal matrix of size 3x3\n",
    "print(diagonal)"
   ]
  },
  {
   "cell_type": "code",
   "execution_count": 9,
   "id": "f4419db7-5036-44b8-99b8-6414a2fe6cdf",
   "metadata": {},
   "outputs": [
    {
     "name": "stdout",
     "output_type": "stream",
     "text": [
      "[[1. 0. 0. 0. 0.]\n",
      " [0. 1. 0. 0. 0.]\n",
      " [0. 0. 1. 0. 0.]]\n"
     ]
    }
   ],
   "source": [
    "diagonal = np.eye(3, 5) # create 2d digonal matrix of size 3x5\n",
    "print(diagonal)"
   ]
  },
  {
   "cell_type": "markdown",
   "id": "5bb73adb-f8c4-42a4-8399-32a31f5327b3",
   "metadata": {},
   "source": [
    "# linespace --> array with same difference"
   ]
  },
  {
   "cell_type": "code",
   "execution_count": 10,
   "id": "3b3435cb-70f0-4ade-b874-8964f61c2b57",
   "metadata": {},
   "outputs": [
    {
     "name": "stdout",
     "output_type": "stream",
     "text": [
      "[ 1.    5.75 10.5  15.25 20.  ]\n"
     ]
    }
   ],
   "source": [
    "x = np.linspace(1, 20, 5) # create an array of 5 size between 1 to 20 with same difference\n",
    "print(x)"
   ]
  }
 ],
 "metadata": {
  "kernelspec": {
   "display_name": "Python 3 (ipykernel)",
   "language": "python",
   "name": "python3"
  },
  "language_info": {
   "codemirror_mode": {
    "name": "ipython",
    "version": 3
   },
   "file_extension": ".py",
   "mimetype": "text/x-python",
   "name": "python",
   "nbconvert_exporter": "python",
   "pygments_lexer": "ipython3",
   "version": "3.12.5"
  }
 },
 "nbformat": 4,
 "nbformat_minor": 5
}
