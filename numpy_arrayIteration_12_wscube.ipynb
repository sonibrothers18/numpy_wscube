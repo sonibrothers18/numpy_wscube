{
 "cells": [
  {
   "cell_type": "code",
   "execution_count": 1,
   "id": "34d4694f-0a7a-4b96-a680-6e566de68ff4",
   "metadata": {},
   "outputs": [],
   "source": [
    "import numpy as np"
   ]
  },
  {
   "cell_type": "markdown",
   "id": "6a64ac30-36eb-4170-8838-d45b90975ba7",
   "metadata": {},
   "source": [
    "# Iteration -->"
   ]
  },
  {
   "cell_type": "code",
   "execution_count": 2,
   "id": "e4b0a938-4b53-4b51-97c3-3c4e525915e2",
   "metadata": {},
   "outputs": [
    {
     "name": "stdout",
     "output_type": "stream",
     "text": [
      "[9 8 7 6 5 4]\n",
      "9\n",
      "8\n",
      "7\n",
      "6\n",
      "5\n",
      "4\n"
     ]
    }
   ],
   "source": [
    "x = np.array([9,8,7,6,5,4])\n",
    "print(x)\n",
    "\n",
    "for i in x:\n",
    "    print(i)"
   ]
  },
  {
   "cell_type": "code",
   "execution_count": 3,
   "id": "d78782bb-cef6-4bd3-91a9-e4309ddf9710",
   "metadata": {},
   "outputs": [
    {
     "name": "stdout",
     "output_type": "stream",
     "text": [
      "[[1 2 3 4]\n",
      " [1 2 3 4]]\n",
      "------------------\n",
      "\n",
      "Iteration using single loop\n",
      "[1 2 3 4]\n",
      "[1 2 3 4]\n",
      "------------------\n",
      "\n",
      "Iteration using double loop\n",
      "1\n",
      "2\n",
      "3\n",
      "4\n",
      "1\n",
      "2\n",
      "3\n",
      "4\n"
     ]
    }
   ],
   "source": [
    "x = np.array([[1,2,3,4], [1,2,3,4]])\n",
    "print(x)\n",
    "print(\"------------------\")\n",
    "print()\n",
    "\n",
    "print(\"Iteration using single loop\")\n",
    "for i in x:\n",
    "    print(i)\n",
    "print(\"------------------\")\n",
    "print()\n",
    "\n",
    "print(\"Iteration using double loop\")\n",
    "for i in x:\n",
    "    for j in i:\n",
    "        print(j)"
   ]
  },
  {
   "cell_type": "markdown",
   "id": "5aa20d1e-2a7a-4750-a39d-1acdb66ef049",
   "metadata": {},
   "source": [
    "# Iteration using function -->"
   ]
  },
  {
   "cell_type": "code",
   "execution_count": 4,
   "id": "1d5a1e9e-2366-4342-b088-b32ecd7cbc6b",
   "metadata": {},
   "outputs": [
    {
     "name": "stdout",
     "output_type": "stream",
     "text": [
      "[[1 2 3 4]\n",
      " [1 2 3 4]]\n",
      "----------------------\n",
      "\n",
      "1\n",
      "2\n",
      "3\n",
      "4\n",
      "1\n",
      "2\n",
      "3\n",
      "4\n"
     ]
    }
   ],
   "source": [
    "x = np.array([[1,2,3,4], [1,2,3,4]])\n",
    "print(x)\n",
    "print(\"----------------------\")\n",
    "print()\n",
    "\n",
    "for i in np.nditer(x): # print array without using many loops\n",
    "    print(i)"
   ]
  },
  {
   "cell_type": "code",
   "execution_count": 7,
   "id": "4ba5f099-9ce1-4383-b8fa-5e9506d061e8",
   "metadata": {},
   "outputs": [
    {
     "name": "stdout",
     "output_type": "stream",
     "text": [
      "[[1 2 3 4]\n",
      " [1 2 3 4]]\n",
      "----------------------\n",
      "\n",
      "(0, 0) 1\n",
      "(0, 1) 2\n",
      "(0, 2) 3\n",
      "(0, 3) 4\n",
      "(1, 0) 1\n",
      "(1, 1) 2\n",
      "(1, 2) 3\n",
      "(1, 3) 4\n"
     ]
    }
   ],
   "source": [
    "x = np.array([[1,2,3,4], [1,2,3,4]])\n",
    "print(x)\n",
    "print(\"----------------------\")\n",
    "print()\n",
    "\n",
    "for i, j in np.ndenumerate(x): # print array with index number without extra loop\n",
    "    print(i, j)"
   ]
  }
 ],
 "metadata": {
  "kernelspec": {
   "display_name": "Python 3 (ipykernel)",
   "language": "python",
   "name": "python3"
  },
  "language_info": {
   "codemirror_mode": {
    "name": "ipython",
    "version": 3
   },
   "file_extension": ".py",
   "mimetype": "text/x-python",
   "name": "python",
   "nbconvert_exporter": "python",
   "pygments_lexer": "ipython3",
   "version": "3.12.5"
  }
 },
 "nbformat": 4,
 "nbformat_minor": 5
}
