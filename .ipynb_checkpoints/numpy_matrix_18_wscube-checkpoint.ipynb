{
 "cells": [
  {
   "cell_type": "code",
   "execution_count": 1,
   "id": "769d3cfd-e711-47b6-ae23-c34bce2499ec",
   "metadata": {},
   "outputs": [],
   "source": [
    "import numpy as np"
   ]
  },
  {
   "cell_type": "markdown",
   "id": "eb3f9c88-4313-452d-8d16-ab6b5b969d1f",
   "metadata": {},
   "source": [
    "# Matrix -->"
   ]
  },
  {
   "cell_type": "code",
   "execution_count": 2,
   "id": "d02a6d95-082a-4d3c-b395-1087b112fb86",
   "metadata": {},
   "outputs": [
    {
     "name": "stdout",
     "output_type": "stream",
     "text": [
      "Type:  <class 'numpy.matrix'>\n",
      "[[1 2 3]\n",
      " [1 2 3]]\n"
     ]
    }
   ],
   "source": [
    "x = np.matrix([[1,2,3], [1,2,3]])\n",
    "\n",
    "print(\"Type: \", type(x))\n",
    "print(x)"
   ]
  },
  {
   "cell_type": "code",
   "execution_count": 4,
   "id": "a9006fac-5d39-4b2e-8217-85919a513938",
   "metadata": {},
   "outputs": [
    {
     "name": "stdout",
     "output_type": "stream",
     "text": [
      "[[ 11  22  33]\n",
      " [101 202 303]]\n"
     ]
    }
   ],
   "source": [
    "x1 = np.matrix([[1,2,3], [1,2,3]])\n",
    "x2 = np.matrix([[10,20,30], [100,200,300]])\n",
    "\n",
    "new = x1 + x2\n",
    "print(new)"
   ]
  },
  {
   "cell_type": "code",
   "execution_count": 5,
   "id": "552e1e36-650a-4957-99bd-e786562edd08",
   "metadata": {},
   "outputs": [
    {
     "name": "stdout",
     "output_type": "stream",
     "text": [
      "[[210 420]\n",
      " [210 420]]\n"
     ]
    }
   ],
   "source": [
    "x1 = np.matrix([[1,2], [1,2]])\n",
    "x2 = np.matrix([[10,20], [100,200]])\n",
    "\n",
    "new = x1 * x2\n",
    "print(new)"
   ]
  },
  {
   "cell_type": "code",
   "execution_count": 8,
   "id": "d68b9533-5f5c-4535-befe-7c2ecfb9f838",
   "metadata": {},
   "outputs": [
    {
     "name": "stdout",
     "output_type": "stream",
     "text": [
      "[[210 420]\n",
      " [210 420]]\n"
     ]
    }
   ],
   "source": [
    "x1 = np.matrix([[1,2], [1,2]])\n",
    "x2 = np.matrix([[10,20], [100,200]])\n",
    "\n",
    "print(x1.dot(x2)) # multiply matrix using .dot function"
   ]
  },
  {
   "cell_type": "markdown",
   "id": "8503a9f2-8600-45e6-a541-e7d8794afb62",
   "metadata": {},
   "source": [
    "# Matrix Functions -->"
   ]
  },
  {
   "cell_type": "raw",
   "id": "6b7286c2-57ad-4cde-a15f-3cfdd2a497ab",
   "metadata": {},
   "source": [
    "Transpose\n",
    "Swapaxes\n",
    "Inverse\n",
    "Power\n",
    "Determinate"
   ]
  },
  {
   "cell_type": "code",
   "execution_count": 14,
   "id": "20c3df21-11c8-4d67-ab01-ad0d34f962f5",
   "metadata": {},
   "outputs": [
    {
     "name": "stdout",
     "output_type": "stream",
     "text": [
      "[[1 2 3]\n",
      " [4 5 6]]\n",
      "-------------------\n",
      "[[1 4]\n",
      " [2 5]\n",
      " [3 6]]\n",
      "-------------------\n",
      "[[1 4]\n",
      " [2 5]\n",
      " [3 6]]\n"
     ]
    }
   ],
   "source": [
    "x = np.matrix([[1,2,3], [4,5,6]])\n",
    "print(x)\n",
    "print(\"-------------------\")\n",
    "\n",
    "print(np.transpose(x))\n",
    "print(\"-------------------\")\n",
    "\n",
    "print(x.T) # we can also use this to transpose the matrix"
   ]
  },
  {
   "cell_type": "markdown",
   "id": "a2b0078e-5a06-462e-94d1-7c99e3aa5059",
   "metadata": {},
   "source": [
    "# swapaxes --> Similar like transpose"
   ]
  },
  {
   "cell_type": "markdown",
   "id": "0cf4f310-fe09-46e5-9c7e-8266a8d5c8d0",
   "metadata": {},
   "source": [
    "# Inverse(linalg.inv) -->"
   ]
  },
  {
   "cell_type": "code",
   "execution_count": 16,
   "id": "d65616f4-190c-459f-bfe2-7114697b83aa",
   "metadata": {},
   "outputs": [
    {
     "name": "stdout",
     "output_type": "stream",
     "text": [
      "[[1 2]\n",
      " [3 4]]\n",
      "------------------\n",
      "[[-2.   1. ]\n",
      " [ 1.5 -0.5]]\n"
     ]
    }
   ],
   "source": [
    "x = np.matrix([[1,2], [3,4]])\n",
    "print(x)\n",
    "print(\"------------------\")\n",
    "\n",
    "print(np.linalg.inv(x))"
   ]
  },
  {
   "cell_type": "markdown",
   "id": "c3b61006-2fe6-485f-831e-6059bfe63099",
   "metadata": {},
   "source": [
    "# Power(linalg.matrix_power) -->"
   ]
  },
  {
   "cell_type": "raw",
   "id": "ed4a7e07-3c8b-4760-a3db-31f1026fe008",
   "metadata": {},
   "source": [
    "Power can be <0, 0, >0\n",
    "if power == 0, identity matrix\n",
    "if power > 0, matrix will multiply n times\n",
    "if power < 0, inverse of matrix n times"
   ]
  },
  {
   "cell_type": "code",
   "execution_count": 19,
   "id": "771e176c-7cc2-43af-93af-2ee3e2a38f4f",
   "metadata": {},
   "outputs": [
    {
     "name": "stdout",
     "output_type": "stream",
     "text": [
      "[[1 2]\n",
      " [3 4]]\n",
      "------------------\n",
      "[[ 7 10]\n",
      " [15 22]]\n"
     ]
    }
   ],
   "source": [
    "x = np.matrix([[1,2], [3,4]])\n",
    "print(x)\n",
    "print(\"------------------\")\n",
    "\n",
    "print(np.linalg.matrix_power(x, 2)) # print x square"
   ]
  },
  {
   "cell_type": "markdown",
   "id": "870d1437-2891-46ef-a16e-bc8cb33deea7",
   "metadata": {},
   "source": [
    "# Determinate(linalg.det) -->"
   ]
  },
  {
   "cell_type": "code",
   "execution_count": 21,
   "id": "142ab040-5f27-4507-84c8-69fd28a1a7cc",
   "metadata": {},
   "outputs": [
    {
     "name": "stdout",
     "output_type": "stream",
     "text": [
      "[[1 2 3]\n",
      " [3 4 3]\n",
      " [1 2 3]]\n",
      "-----------------\n",
      "0.0\n"
     ]
    }
   ],
   "source": [
    "x = np.matrix([[1,2,3], [3,4,3], [1,2,3]])\n",
    "print(x)\n",
    "print(\"-----------------\")\n",
    "\n",
    "print(np.linalg.det(x))"
   ]
  }
 ],
 "metadata": {
  "kernelspec": {
   "display_name": "Python 3 (ipykernel)",
   "language": "python",
   "name": "python3"
  },
  "language_info": {
   "codemirror_mode": {
    "name": "ipython",
    "version": 3
   },
   "file_extension": ".py",
   "mimetype": "text/x-python",
   "name": "python",
   "nbconvert_exporter": "python",
   "pygments_lexer": "ipython3",
   "version": "3.12.5"
  }
 },
 "nbformat": 4,
 "nbformat_minor": 5
}
