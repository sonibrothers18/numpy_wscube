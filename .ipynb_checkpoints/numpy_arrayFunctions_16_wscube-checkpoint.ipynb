{
 "cells": [
  {
   "cell_type": "code",
   "execution_count": 1,
   "id": "1de8b50a-02b5-437b-b73e-623c1cda4d6c",
   "metadata": {},
   "outputs": [],
   "source": [
    "import numpy as np"
   ]
  },
  {
   "cell_type": "raw",
   "id": "5fd562f4-9167-4a61-9a1f-f758b5bf812a",
   "metadata": {},
   "source": [
    "shuffle\n",
    "unique\n",
    "resize\n",
    "flatten\n",
    "ravel"
   ]
  },
  {
   "cell_type": "markdown",
   "id": "af7ef6f1-7cf8-4a75-976d-475d947a6060",
   "metadata": {},
   "source": [
    "# shuffle --> shuffle the elements of array"
   ]
  },
  {
   "cell_type": "code",
   "execution_count": 4,
   "id": "2d38ab68-1853-4101-b275-07c2db560d93",
   "metadata": {},
   "outputs": [
    {
     "name": "stdout",
     "output_type": "stream",
     "text": [
      "[1 2 3 4 5]\n",
      "[1 2 5 3 4]\n"
     ]
    }
   ],
   "source": [
    "x = np.array([1,2,3,4,5])\n",
    "print(x)\n",
    "\n",
    "np.random.shuffle(x) # shuffle the elements of x\n",
    "\n",
    "print(x)"
   ]
  },
  {
   "cell_type": "markdown",
   "id": "c44bdbb7-e8ae-4237-b491-2888f3b491c6",
   "metadata": {},
   "source": [
    "# unique --> remove all duplicate from array"
   ]
  },
  {
   "cell_type": "code",
   "execution_count": 8,
   "id": "2728a941-0214-4f0a-a839-fea54bbb21a1",
   "metadata": {},
   "outputs": [
    {
     "name": "stdout",
     "output_type": "stream",
     "text": [
      "[1 2 3 4 2 5 2 6 2 7]\n",
      "[1 2 3 4 5 6 7]\n"
     ]
    }
   ],
   "source": [
    "x = np.array([1,2,3,4,2,5,2,6,2,7])\n",
    "print(x)\n",
    "\n",
    "new = np.unique(x) # remove all duplicate elements\n",
    "print(new)"
   ]
  },
  {
   "cell_type": "code",
   "execution_count": 9,
   "id": "47e8ce3e-cfe5-4b05-8574-cdce9b488c94",
   "metadata": {},
   "outputs": [
    {
     "name": "stdout",
     "output_type": "stream",
     "text": [
      "[1 2 3 4 2 5 2 6 2 7]\n",
      "(array([1, 2, 3, 4, 5, 6, 7]), array([0, 1, 2, 3, 5, 7, 9]), array([1, 4, 1, 1, 1, 1, 1]))\n"
     ]
    }
   ],
   "source": [
    "x = np.array([1,2,3,4,2,5,2,6,2,7])\n",
    "print(x)\n",
    "\n",
    "new = np.unique(x, return_index=True, return_counts=True)\n",
    "print(new)"
   ]
  },
  {
   "cell_type": "markdown",
   "id": "83f732f5-34d9-4b62-8cf0-47f00a1f1f8d",
   "metadata": {},
   "source": [
    "# resize --> resize the array according to given row & column parameters"
   ]
  },
  {
   "cell_type": "code",
   "execution_count": 10,
   "id": "8027b32e-099a-4640-8523-f9846b853ff5",
   "metadata": {},
   "outputs": [
    {
     "name": "stdout",
     "output_type": "stream",
     "text": [
      "[[1 2 3]\n",
      " [4 5 6]]\n"
     ]
    }
   ],
   "source": [
    "x = np.array([1,2,3,4,5,6])\n",
    "\n",
    "new = np.resize(x, (2, 3))\n",
    "print(new)"
   ]
  },
  {
   "cell_type": "markdown",
   "id": "bcbe5670-7019-4198-aea5-1bfafa56f07e",
   "metadata": {},
   "source": [
    "# flatten --> convert 2D array to 1D array"
   ]
  },
  {
   "cell_type": "code",
   "execution_count": 16,
   "id": "fed73716-509f-4960-a9af-e3a13f7b62b9",
   "metadata": {},
   "outputs": [
    {
     "name": "stdout",
     "output_type": "stream",
     "text": [
      "[[1 2]\n",
      " [3 4]\n",
      " [5 6]]\n",
      "----------------\n",
      "[1 2 3 4 5 6]\n",
      "[1 3 5 2 4 6]\n"
     ]
    }
   ],
   "source": [
    "x = np.array([[1,2], [3,4], [5,6]])\n",
    "print(x)\n",
    "print(\"----------------\")\n",
    "\n",
    "print(x.flatten())\n",
    "(\"----------------\")\n",
    "\n",
    "print(x.flatten(order=\"F\")) # default order is \"C\""
   ]
  },
  {
   "cell_type": "markdown",
   "id": "7625ca35-f1ef-4b13-a362-3e9017c805d7",
   "metadata": {},
   "source": [
    "# ravel --> same as flatten"
   ]
  }
 ],
 "metadata": {
  "kernelspec": {
   "display_name": "Python 3 (ipykernel)",
   "language": "python",
   "name": "python3"
  },
  "language_info": {
   "codemirror_mode": {
    "name": "ipython",
    "version": 3
   },
   "file_extension": ".py",
   "mimetype": "text/x-python",
   "name": "python",
   "nbconvert_exporter": "python",
   "pygments_lexer": "ipython3",
   "version": "3.12.5"
  }
 },
 "nbformat": 4,
 "nbformat_minor": 5
}
