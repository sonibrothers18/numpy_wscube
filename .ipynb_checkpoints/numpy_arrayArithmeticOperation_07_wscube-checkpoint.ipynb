{
 "cells": [
  {
   "cell_type": "code",
   "execution_count": 1,
   "id": "512777aa-90b5-4dd6-8898-de9d885614a8",
   "metadata": {},
   "outputs": [],
   "source": [
    "import numpy as np"
   ]
  },
  {
   "cell_type": "markdown",
   "id": "2f94f6da-0980-4fbc-8cdf-95146de5ae1d",
   "metadata": {},
   "source": [
    "# Arithmetic Operations -->"
   ]
  },
  {
   "cell_type": "code",
   "execution_count": 12,
   "id": "1ebe508b-0fc6-413b-8dbb-e75288bbcc1e",
   "metadata": {},
   "outputs": [
    {
     "name": "stdout",
     "output_type": "stream",
     "text": [
      "[4 5 6 7]\n"
     ]
    }
   ],
   "source": [
    "x = np.array([1,2,3,4])\n",
    "\n",
    "xadd = x + 3 # add 3 to each elements of x array\n",
    "\n",
    "print(xadd)"
   ]
  },
  {
   "cell_type": "code",
   "execution_count": 13,
   "id": "0e263c75-b126-4bf7-8ef4-b9499c6abece",
   "metadata": {},
   "outputs": [
    {
     "name": "stdout",
     "output_type": "stream",
     "text": [
      "[11 22 33 44]\n"
     ]
    }
   ],
   "source": [
    "x1 = np.array([1,2,3,4])\n",
    "x2 = np.array([10,20,30,40])\n",
    "\n",
    "xadd = x1 + x2 # add x1 & x2\n",
    "\n",
    "print(xadd)"
   ]
  },
  {
   "cell_type": "markdown",
   "id": "84fff6c3-df79-48ef-b606-17c1a8474b48",
   "metadata": {},
   "source": [
    "# Arithmetic Operations using function -->"
   ]
  },
  {
   "cell_type": "raw",
   "id": "7c9f5994-28de-41cd-8778-0efd31f5937d",
   "metadata": {},
   "source": [
    "np.add(a, b)\n",
    "np.subtract(a, b)\n",
    "np.multiply(a, b)\n",
    "np.divide(a, b)\n",
    "np.mod(a, b) --> a%b\n",
    "np.power(a, b) --> a**b\n",
    "np.reciprocal(a) --> 1/a"
   ]
  },
  {
   "cell_type": "code",
   "execution_count": 10,
   "id": "0a4d7043-508b-4ea0-8215-e3e8449a8208",
   "metadata": {},
   "outputs": [
    {
     "name": "stdout",
     "output_type": "stream",
     "text": [
      "[4 5 6 7]\n"
     ]
    }
   ],
   "source": [
    "x = np.array([1,2,3,4])\n",
    "\n",
    "xadd = np.add(x, 3) # add 3 to each elements of x array\n",
    "\n",
    "print(xadd)"
   ]
  },
  {
   "cell_type": "code",
   "execution_count": 11,
   "id": "5081660c-0276-4e5a-9cd2-2b31bcbdbde5",
   "metadata": {},
   "outputs": [
    {
     "name": "stdout",
     "output_type": "stream",
     "text": [
      "[11 22 33 44]\n"
     ]
    }
   ],
   "source": [
    "x1 = np.array([1,2,3,4])\n",
    "x2 = np.array([10,20,30,40])\n",
    "\n",
    "xadd = np.add(x1, x2) # add x1 & x2\n",
    "\n",
    "print(xadd)"
   ]
  },
  {
   "cell_type": "markdown",
   "id": "d6a327bc-689b-43e3-981b-2e41c60b537f",
   "metadata": {},
   "source": [
    "# 2D Array -->"
   ]
  },
  {
   "cell_type": "code",
   "execution_count": 15,
   "id": "59c3b393-62ff-4749-91d4-9a29a6be4de1",
   "metadata": {},
   "outputs": [
    {
     "name": "stdout",
     "output_type": "stream",
     "text": [
      "[[11 12 13 14]\n",
      " [15 16 17 18]]\n"
     ]
    }
   ],
   "source": [
    "x1 = np.array([[1,2,3,4], [5,6,7,8]])\n",
    "x2 = np.array([[10,10,10,10], [10,10,10,10]])\n",
    "\n",
    "xadd = x1 + x2\n",
    "\n",
    "print(xadd)"
   ]
  },
  {
   "cell_type": "code",
   "execution_count": 16,
   "id": "094c336f-1b52-43e8-9b1c-9489226d83d7",
   "metadata": {},
   "outputs": [
    {
     "name": "stdout",
     "output_type": "stream",
     "text": [
      "[[10 20 30 40]\n",
      " [50 60 70 80]]\n"
     ]
    }
   ],
   "source": [
    "x1 = np.array([[1,2,3,4], [5,6,7,8]])\n",
    "x2 = np.array([[10,10,10,10], [10,10,10,10]])\n",
    "\n",
    "xadd = x1 * x2\n",
    "\n",
    "print(xadd)"
   ]
  }
 ],
 "metadata": {
  "kernelspec": {
   "display_name": "Python 3 (ipykernel)",
   "language": "python",
   "name": "python3"
  },
  "language_info": {
   "codemirror_mode": {
    "name": "ipython",
    "version": 3
   },
   "file_extension": ".py",
   "mimetype": "text/x-python",
   "name": "python",
   "nbconvert_exporter": "python",
   "pygments_lexer": "ipython3",
   "version": "3.12.5"
  }
 },
 "nbformat": 4,
 "nbformat_minor": 5
}
