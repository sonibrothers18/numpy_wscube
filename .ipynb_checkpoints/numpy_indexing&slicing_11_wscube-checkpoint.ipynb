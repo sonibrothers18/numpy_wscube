{
 "cells": [
  {
   "cell_type": "code",
   "execution_count": 1,
   "id": "2b8d068b-4bcb-4705-97b4-701cc94ae867",
   "metadata": {},
   "outputs": [],
   "source": [
    "import numpy as np"
   ]
  },
  {
   "cell_type": "markdown",
   "id": "bf468471-f2b6-4074-afb7-3fc4bf6802fe",
   "metadata": {},
   "source": [
    "# Indexing -->"
   ]
  },
  {
   "cell_type": "code",
   "execution_count": 3,
   "id": "ea8f1809-1b3a-400b-abf1-43da475d8e76",
   "metadata": {},
   "outputs": [
    {
     "name": "stdout",
     "output_type": "stream",
     "text": [
      "30\n",
      "20\n"
     ]
    }
   ],
   "source": [
    "x = np.array([10,20,30,40])\n",
    "\n",
    "print(x[2])\n",
    "print(x[-3]) # totalSize - number"
   ]
  },
  {
   "cell_type": "code",
   "execution_count": 6,
   "id": "0edcf604-0eff-4fc5-bf61-17e87df09f31",
   "metadata": {},
   "outputs": [
    {
     "name": "stdout",
     "output_type": "stream",
     "text": [
      "[[9 8 7]\n",
      " [4 5 6]]\n",
      "Element it index 0,2:  7\n"
     ]
    }
   ],
   "source": [
    "x = np.array([[9,8,7], [4,5,6]])\n",
    "\n",
    "print(x)\n",
    "print(\"Element it index 0,2: \",x[0, 2])"
   ]
  },
  {
   "cell_type": "code",
   "execution_count": 8,
   "id": "0729e21d-3715-4589-9230-8a0d2a009f05",
   "metadata": {},
   "outputs": [
    {
     "name": "stdout",
     "output_type": "stream",
     "text": [
      "[[[1 2]\n",
      "  [6 7]]]\n",
      "Element it index 0,1,1:  7\n"
     ]
    }
   ],
   "source": [
    "x = np.array([[[1,2], [6,7]]])\n",
    "\n",
    "print(x)\n",
    "print(\"Element it index 0,1,1: \",x[0, 1, 1])"
   ]
  },
  {
   "cell_type": "markdown",
   "id": "79611eba-b3a9-4f54-b190-0780017472ba",
   "metadata": {},
   "source": [
    "# Slicing -->"
   ]
  },
  {
   "cell_type": "code",
   "execution_count": 16,
   "id": "953edf0a-0ec1-4af1-9695-49542fdac5ab",
   "metadata": {},
   "outputs": [
    {
     "name": "stdout",
     "output_type": "stream",
     "text": [
      "[10 20 30 40 50 60 70]\n",
      "20 to 40:  [20 30 40]\n",
      "20 to end:  [20 30 40 50 60 70]\n",
      "start to 50:  [10 20 30 40 50]\n",
      "Every 2nd element  [10 30 50 70]\n"
     ]
    }
   ],
   "source": [
    "x = np.array([10,20,30,40,50,60,70])\n",
    "\n",
    "print(x)\n",
    "\n",
    "print(\"20 to 40: \", x[1:4])\n",
    "print(\"20 to end: \", x[1:])\n",
    "print(\"start to 50: \", x[:5])\n",
    "print(\"Every 2nd element \", x[::2])"
   ]
  },
  {
   "cell_type": "code",
   "execution_count": 19,
   "id": "e7f6b9be-b60b-41d4-8511-0460c6f0b00b",
   "metadata": {},
   "outputs": [
    {
     "name": "stdout",
     "output_type": "stream",
     "text": [
      "[[ 1  2  3  4  5]\n",
      " [ 9  8  7  6  5]\n",
      " [11 12 13 14 15]]\n",
      "[8 7 6]\n"
     ]
    }
   ],
   "source": [
    "x = np.array([[1,2,3,4,5], [9,8,7,6,5], [11,12,13,14,15]])\n",
    "\n",
    "print(x)\n",
    "print(x[1, 1:4])"
   ]
  }
 ],
 "metadata": {
  "kernelspec": {
   "display_name": "Python 3 (ipykernel)",
   "language": "python",
   "name": "python3"
  },
  "language_info": {
   "codemirror_mode": {
    "name": "ipython",
    "version": 3
   },
   "file_extension": ".py",
   "mimetype": "text/x-python",
   "name": "python",
   "nbconvert_exporter": "python",
   "pygments_lexer": "ipython3",
   "version": "3.12.5"
  }
 },
 "nbformat": 4,
 "nbformat_minor": 5
}
