{
 "cells": [
  {
   "cell_type": "code",
   "execution_count": 1,
   "id": "80e8b7dc-511c-435a-93da-e1277bb44db9",
   "metadata": {},
   "outputs": [],
   "source": [
    "import numpy as np"
   ]
  },
  {
   "cell_type": "code",
   "execution_count": 6,
   "id": "7a400057-a161-4cab-a4ae-aba25f15c912",
   "metadata": {},
   "outputs": [
    {
     "name": "stdout",
     "output_type": "stream",
     "text": [
      "[0.09687336 0.24306344 0.86281499 0.07853728]\n"
     ]
    }
   ],
   "source": [
    "x = np.random.rand(4) # create an array of 4 random elements between 0 & 1 \n",
    "print(x)"
   ]
  },
  {
   "cell_type": "code",
   "execution_count": 7,
   "id": "119402b6-74c7-45f2-983f-4af9bf59cd9d",
   "metadata": {},
   "outputs": [
    {
     "name": "stdout",
     "output_type": "stream",
     "text": [
      "[[0.92388426 0.21967019 0.89433008 0.59527023]\n",
      " [0.17155849 0.98660217 0.01488427 0.36182847]]\n"
     ]
    }
   ],
   "source": [
    "x = np.random.rand(2, 4) # create an 2D array of random elements between 0 & 1 with 2 rows & 4 column\n",
    "print(x)"
   ]
  },
  {
   "cell_type": "code",
   "execution_count": null,
   "id": "b078ae3b-f5f6-4caa-9569-48cbabe51df0",
   "metadata": {},
   "outputs": [],
   "source": []
  }
 ],
 "metadata": {
  "kernelspec": {
   "display_name": "Python 3 (ipykernel)",
   "language": "python",
   "name": "python3"
  },
  "language_info": {
   "codemirror_mode": {
    "name": "ipython",
    "version": 3
   },
   "file_extension": ".py",
   "mimetype": "text/x-python",
   "name": "python",
   "nbconvert_exporter": "python",
   "pygments_lexer": "ipython3",
   "version": "3.12.5"
  }
 },
 "nbformat": 4,
 "nbformat_minor": 5
}
