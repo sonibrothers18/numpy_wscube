{
 "cells": [
  {
   "cell_type": "code",
   "execution_count": 1,
   "id": "aaf81fd2-0d1d-45b2-9c26-4a9f3f7a78eb",
   "metadata": {},
   "outputs": [],
   "source": [
    "import numpy as np"
   ]
  },
  {
   "cell_type": "markdown",
   "id": "9e64a8b8-9984-4172-a989-fc3fae1f2ccd",
   "metadata": {},
   "source": [
    "# insert --> Insert element at specific location"
   ]
  },
  {
   "cell_type": "code",
   "execution_count": 7,
   "id": "814f8761-4ffe-4535-ac16-8dd62046d737",
   "metadata": {},
   "outputs": [
    {
     "name": "stdout",
     "output_type": "stream",
     "text": [
      "[1 2 3 4 5]\n",
      "[  1   2 100   3   4   5]\n"
     ]
    }
   ],
   "source": [
    "x = np.array([1,2,3,4,5])\n",
    "print(x)\n",
    "\n",
    "new = np.insert(x, 2, 100) # arrayName, index, value\n",
    "print(new)"
   ]
  },
  {
   "cell_type": "code",
   "execution_count": 5,
   "id": "c10062b9-e161-4480-a2da-555067eb7d9c",
   "metadata": {},
   "outputs": [
    {
     "name": "stdout",
     "output_type": "stream",
     "text": [
      "[1 2 3 4 5]\n",
      "[  1   2 100   3   4 100   5]\n"
     ]
    }
   ],
   "source": [
    "x = np.array([1,2,3,4,5])\n",
    "print(x)\n",
    "\n",
    "new = np.insert(x, (2,4), 100)\n",
    "print(new)"
   ]
  },
  {
   "cell_type": "code",
   "execution_count": 8,
   "id": "63200cb9-0d61-44ac-864e-03f80252ec95",
   "metadata": {},
   "outputs": [],
   "source": [
    "# 2D insert left"
   ]
  },
  {
   "cell_type": "markdown",
   "id": "90194aba-bb43-4c63-8a2f-6895d732468d",
   "metadata": {},
   "source": [
    "# append --> insert element at the end of array"
   ]
  },
  {
   "cell_type": "code",
   "execution_count": 10,
   "id": "239832d8-14ed-4428-bfc1-ac56cb982880",
   "metadata": {},
   "outputs": [
    {
     "name": "stdout",
     "output_type": "stream",
     "text": [
      "[1 2 3 4 5]\n",
      "[  1   2   3   4   5 100]\n"
     ]
    }
   ],
   "source": [
    "x = np.array([1,2,3,4,5])\n",
    "print(x)\n",
    "\n",
    "new = np.append(x, 100) # insert element at the end of x\n",
    "print(new)"
   ]
  },
  {
   "cell_type": "code",
   "execution_count": 12,
   "id": "ba703134-b359-4c9e-abd3-d9c513ad2cbe",
   "metadata": {},
   "outputs": [
    {
     "name": "stdout",
     "output_type": "stream",
     "text": [
      "[[1 2 3]\n",
      " [1 2 3]]\n",
      "-----------------\n",
      "[[ 1  2  3]\n",
      " [ 1  2  3]\n",
      " [10 15 16]]\n"
     ]
    }
   ],
   "source": [
    "x = np.array([[1,2,3], [1,2,3]])\n",
    "print(x)\n",
    "print(\"-----------------\")\n",
    "\n",
    "new = np.append(x, [[10,15,16]], axis=0)\n",
    "print(new)"
   ]
  },
  {
   "cell_type": "markdown",
   "id": "d67d60ec-5549-41e2-b364-4a94acf51fcb",
   "metadata": {},
   "source": [
    "# delete --> Delete element at specific index"
   ]
  },
  {
   "cell_type": "code",
   "execution_count": 14,
   "id": "ea65e930-8e12-4785-a6f7-053d99ca5e8e",
   "metadata": {},
   "outputs": [
    {
     "name": "stdout",
     "output_type": "stream",
     "text": [
      "[1 2 3 4 5]\n",
      "[1 2 4 5]\n"
     ]
    }
   ],
   "source": [
    "x = np.array([1,2,3,4,5])\n",
    "print(x)\n",
    "\n",
    "new = np.delete(x, 2) # delete element at index 2\n",
    "print(new)"
   ]
  }
 ],
 "metadata": {
  "kernelspec": {
   "display_name": "Python 3 (ipykernel)",
   "language": "python",
   "name": "python3"
  },
  "language_info": {
   "codemirror_mode": {
    "name": "ipython",
    "version": 3
   },
   "file_extension": ".py",
   "mimetype": "text/x-python",
   "name": "python",
   "nbconvert_exporter": "python",
   "pygments_lexer": "ipython3",
   "version": "3.12.5"
  }
 },
 "nbformat": 4,
 "nbformat_minor": 5
}
