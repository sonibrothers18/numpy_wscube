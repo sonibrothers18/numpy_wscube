{
 "cells": [
  {
   "cell_type": "code",
   "execution_count": 1,
   "id": "e398c33b-0e65-4678-b50d-eae847dca297",
   "metadata": {},
   "outputs": [],
   "source": [
    "import numpy as np"
   ]
  },
  {
   "cell_type": "markdown",
   "id": "25726cd7-ff61-4b4d-8e40-2d37b98e2a5c",
   "metadata": {},
   "source": [
    "# Search(where) --> return the index of element"
   ]
  },
  {
   "cell_type": "code",
   "execution_count": 2,
   "id": "c33f9269-bfe1-4084-be1a-963725a13263",
   "metadata": {},
   "outputs": [
    {
     "name": "stdout",
     "output_type": "stream",
     "text": [
      "(array([1, 4, 6]),)\n"
     ]
    }
   ],
   "source": [
    "x = np.array([1,2,3,4,2,5,2,5,6,7])\n",
    "\n",
    "ans = np.where(x == 2) # return index of element\n",
    "print(ans)"
   ]
  },
  {
   "cell_type": "code",
   "execution_count": 3,
   "id": "9956bf37-253e-4cfa-a9ff-77b83df04376",
   "metadata": {},
   "outputs": [
    {
     "name": "stdout",
     "output_type": "stream",
     "text": [
      "(array([1, 3, 4, 6, 8]),)\n"
     ]
    }
   ],
   "source": [
    "x = np.array([1,2,3,4,2,5,2,5,6,7])\n",
    "\n",
    "ans = np.where((x%2) == 0)\n",
    "print(ans)"
   ]
  },
  {
   "cell_type": "markdown",
   "id": "ed658860-89a8-4fbb-8453-e5d7e13279dd",
   "metadata": {},
   "source": [
    "# searchsorted --> return the index at which element should insert"
   ]
  },
  {
   "cell_type": "code",
   "execution_count": 8,
   "id": "f56b3531-f24d-403d-86a1-e3ec58e1a31d",
   "metadata": {},
   "outputs": [
    {
     "name": "stdout",
     "output_type": "stream",
     "text": [
      "Insert on index:  4\n"
     ]
    }
   ],
   "source": [
    "x = np.array([1,2,3,4,6,7,8,9])\n",
    "\n",
    "index = np.searchsorted(x, 5)\n",
    "print(\"Insert on index: \",index)"
   ]
  },
  {
   "cell_type": "code",
   "execution_count": 9,
   "id": "27d0e0b6-0a27-4925-ad47-2f59595b1627",
   "metadata": {},
   "outputs": [
    {
     "name": "stdout",
     "output_type": "stream",
     "text": [
      "Insert on index:  [ 4  8 11]\n"
     ]
    }
   ],
   "source": [
    "x = np.array([1,2,3,4,6,7,8,9,11,12,13])\n",
    "\n",
    "index = np.searchsorted(x, [5,10,14])\n",
    "print(\"Insert on index: \",index)"
   ]
  },
  {
   "cell_type": "markdown",
   "id": "6fd5df31-6b30-423e-8e2e-d866db293c77",
   "metadata": {},
   "source": [
    "# sort -->"
   ]
  },
  {
   "cell_type": "code",
   "execution_count": 10,
   "id": "d7df9c34-f1fd-42ac-a41f-fc341e3ddbbd",
   "metadata": {},
   "outputs": [
    {
     "name": "stdout",
     "output_type": "stream",
     "text": [
      "[  7  54  21   9   6   1 485  23   7]\n",
      "[  1   6   7   7   9  21  23  54 485]\n"
     ]
    }
   ],
   "source": [
    "x = np.array([7,54,21,9,6,1,485,23,7])\n",
    "print(x)\n",
    "\n",
    "print(np.sort(x))"
   ]
  },
  {
   "cell_type": "code",
   "execution_count": 12,
   "id": "0ca9761a-32c1-4318-930e-00cc7eff4601",
   "metadata": {},
   "outputs": [
    {
     "name": "stdout",
     "output_type": "stream",
     "text": [
      "[[ 4  2  3]\n",
      " [ 1 12  5]\n",
      " [22 52  6]]\n",
      "-----------------\n",
      "[[ 2  3  4]\n",
      " [ 1  5 12]\n",
      " [ 6 22 52]]\n"
     ]
    }
   ],
   "source": [
    "x = np.array([[4,2,3], [1,12,5], [22,52,6]])\n",
    "print(x)\n",
    "print(\"-----------------\")\n",
    "\n",
    "print(np.sort(x))"
   ]
  },
  {
   "cell_type": "markdown",
   "id": "9cfac506-2607-4240-8d8c-73015483db7c",
   "metadata": {},
   "source": [
    "# Filter Array -->"
   ]
  },
  {
   "cell_type": "code",
   "execution_count": 14,
   "id": "cfc964c4-820a-4f97-b6e3-92dc9502eb4c",
   "metadata": {},
   "outputs": [
    {
     "name": "stdout",
     "output_type": "stream",
     "text": [
      "['a' 'f']\n"
     ]
    }
   ],
   "source": [
    "x = np.array([\"a\", \"s\", \"d\", \"f\"])\n",
    "\n",
    "f = [True, False, False, True]\n",
    "\n",
    "new = x[f]\n",
    "print(new)"
   ]
  }
 ],
 "metadata": {
  "kernelspec": {
   "display_name": "Python 3 (ipykernel)",
   "language": "python",
   "name": "python3"
  },
  "language_info": {
   "codemirror_mode": {
    "name": "ipython",
    "version": 3
   },
   "file_extension": ".py",
   "mimetype": "text/x-python",
   "name": "python",
   "nbconvert_exporter": "python",
   "pygments_lexer": "ipython3",
   "version": "3.12.5"
  }
 },
 "nbformat": 4,
 "nbformat_minor": 5
}
