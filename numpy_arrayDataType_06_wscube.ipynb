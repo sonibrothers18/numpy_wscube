{
 "cells": [
  {
   "cell_type": "code",
   "execution_count": 1,
   "id": "65a2d34d-3f6f-43b1-80f3-292c4fb627f7",
   "metadata": {},
   "outputs": [],
   "source": [
    "import numpy as np"
   ]
  },
  {
   "cell_type": "markdown",
   "id": "66f8e536-7d71-4164-a193-964cd151f233",
   "metadata": {},
   "source": [
    "# Data Types -->"
   ]
  },
  {
   "cell_type": "code",
   "execution_count": 2,
   "id": "9808e353-3d16-4c3c-9597-6b73cce84a6a",
   "metadata": {},
   "outputs": [
    {
     "name": "stdout",
     "output_type": "stream",
     "text": [
      "Data Type:  int64\n"
     ]
    }
   ],
   "source": [
    "x = np.array([1,2,3,5,4,8,6])\n",
    "print(\"Data Type: \", x.dtype)"
   ]
  },
  {
   "cell_type": "code",
   "execution_count": 5,
   "id": "e9d8014f-fad5-452a-9b89-53cbe202d36b",
   "metadata": {},
   "outputs": [
    {
     "name": "stdout",
     "output_type": "stream",
     "text": [
      "Data Type:  float64\n"
     ]
    }
   ],
   "source": [
    "x = np.array([1.5, 3.8, 4.41, 8.3])\n",
    "print(\"Data Type: \", x.dtype)"
   ]
  },
  {
   "cell_type": "code",
   "execution_count": 6,
   "id": "20bdf586-dfc3-49ec-b29d-8fdae320e54d",
   "metadata": {},
   "outputs": [
    {
     "name": "stdout",
     "output_type": "stream",
     "text": [
      "Data Type:  <U1\n"
     ]
    }
   ],
   "source": [
    "x = np.array([\"a\", \"s\", \"d\", \"f\"])\n",
    "print(\"Data Type: \", x.dtype)"
   ]
  },
  {
   "cell_type": "code",
   "execution_count": 7,
   "id": "d3af1790-87a6-446e-87e8-c854a7deb249",
   "metadata": {},
   "outputs": [
    {
     "name": "stdout",
     "output_type": "stream",
     "text": [
      "Data Type:  <U21\n"
     ]
    }
   ],
   "source": [
    "x = np.array([\"a\", \"s\", \"d\", 5,6,7,2])\n",
    "print(\"Data Type: \", x.dtype)"
   ]
  },
  {
   "cell_type": "markdown",
   "id": "f273069c-1ae0-4e87-b281-f1ddb5ec702e",
   "metadata": {},
   "source": [
    "# Changing data type -->"
   ]
  },
  {
   "cell_type": "code",
   "execution_count": 11,
   "id": "ea3aaf2d-72ae-4cb1-a92c-7c706afe4b24",
   "metadata": {},
   "outputs": [
    {
     "name": "stdout",
     "output_type": "stream",
     "text": [
      "Data Type:  int8\n"
     ]
    }
   ],
   "source": [
    "x = np.array([1,2,3,4], dtype = np.int8) # change to int8\n",
    "print(\"Data Type: \", x.dtype)"
   ]
  },
  {
   "cell_type": "code",
   "execution_count": 12,
   "id": "7d30ed53-b3d9-4cfb-a9f5-81c36aa2b97a",
   "metadata": {},
   "outputs": [
    {
     "name": "stdout",
     "output_type": "stream",
     "text": [
      "Data Type:  float32\n",
      "[1. 2. 3. 4.]\n"
     ]
    }
   ],
   "source": [
    "x = np.array([1,2,3,4], dtype = \"f\") # change to float\n",
    "print(\"Data Type: \", x.dtype)\n",
    "print(x)"
   ]
  },
  {
   "cell_type": "code",
   "execution_count": 16,
   "id": "8fe25f1c-cf86-4708-a73e-a1423cca41e1",
   "metadata": {},
   "outputs": [
    {
     "name": "stdout",
     "output_type": "stream",
     "text": [
      "Data Type of x:  int64\n",
      "Data Type of new:  float32\n",
      "[1 2 3 4]\n",
      "[1. 2. 3. 4.]\n"
     ]
    }
   ],
   "source": [
    "x = np.array([1,2,3,4])\n",
    "new = np.float32(x) # change data type to float using function\n",
    "\n",
    "print(\"Data Type of x: \", x.dtype)\n",
    "print(\"Data Type of new: \", new.dtype)\n",
    "\n",
    "print(x)\n",
    "print(new)"
   ]
  },
  {
   "cell_type": "code",
   "execution_count": 17,
   "id": "7732d855-97c6-40b2-9b56-4c3b6de134b3",
   "metadata": {},
   "outputs": [
    {
     "name": "stdout",
     "output_type": "stream",
     "text": [
      "[1 2 3 4]\n",
      "[1. 2. 3. 4.]\n"
     ]
    }
   ],
   "source": [
    "x = np.array([1,2,3,4])\n",
    "new = x.astype(float)\n",
    "\n",
    "print(x)\n",
    "print(new)"
   ]
  }
 ],
 "metadata": {
  "kernelspec": {
   "display_name": "Python 3 (ipykernel)",
   "language": "python",
   "name": "python3"
  },
  "language_info": {
   "codemirror_mode": {
    "name": "ipython",
    "version": 3
   },
   "file_extension": ".py",
   "mimetype": "text/x-python",
   "name": "python",
   "nbconvert_exporter": "python",
   "pygments_lexer": "ipython3",
   "version": "3.12.5"
  }
 },
 "nbformat": 4,
 "nbformat_minor": 5
}
