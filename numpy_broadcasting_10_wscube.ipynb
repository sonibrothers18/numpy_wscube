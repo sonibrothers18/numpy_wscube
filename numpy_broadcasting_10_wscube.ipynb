{
 "cells": [
  {
   "cell_type": "code",
   "execution_count": 1,
   "id": "69224394-b419-433b-b3da-531c68a430bb",
   "metadata": {},
   "outputs": [],
   "source": [
    "import numpy as np"
   ]
  },
  {
   "cell_type": "raw",
   "id": "df76d885-c25f-4e90-aed0-8e0d1bf9637d",
   "metadata": {},
   "source": [
    "one of the row & col have 1 or same value\n",
    "new array will be of max of the row & col"
   ]
  },
  {
   "cell_type": "code",
   "execution_count": 10,
   "id": "44743dfb-fba0-4de9-97e5-d9c0f999ad97",
   "metadata": {},
   "outputs": [
    {
     "ename": "ValueError",
     "evalue": "operands could not be broadcast together with shapes (4,) (3,) ",
     "output_type": "error",
     "traceback": [
      "\u001b[1;31m---------------------------------------------------------------------------\u001b[0m",
      "\u001b[1;31mValueError\u001b[0m                                Traceback (most recent call last)",
      "Cell \u001b[1;32mIn[10], line 4\u001b[0m\n\u001b[0;32m      1\u001b[0m x1 \u001b[38;5;241m=\u001b[39m np\u001b[38;5;241m.\u001b[39marray([\u001b[38;5;241m1\u001b[39m,\u001b[38;5;241m2\u001b[39m,\u001b[38;5;241m3\u001b[39m,\u001b[38;5;241m4\u001b[39m])\n\u001b[0;32m      2\u001b[0m x2 \u001b[38;5;241m=\u001b[39m np\u001b[38;5;241m.\u001b[39marray([\u001b[38;5;241m1\u001b[39m,\u001b[38;5;241m2\u001b[39m,\u001b[38;5;241m3\u001b[39m])\n\u001b[1;32m----> 4\u001b[0m \u001b[38;5;28mprint\u001b[39m(\u001b[43mx1\u001b[49m\u001b[43m \u001b[49m\u001b[38;5;241;43m+\u001b[39;49m\u001b[43m \u001b[49m\u001b[43mx2\u001b[49m)\n",
      "\u001b[1;31mValueError\u001b[0m: operands could not be broadcast together with shapes (4,) (3,) "
     ]
    }
   ],
   "source": [
    "x1 = np.array([1,2,3,4])\n",
    "x2 = np.array([1,2,3])\n",
    "\n",
    "print(x1 + x2)"
   ]
  },
  {
   "cell_type": "code",
   "execution_count": 8,
   "id": "050ccf9e-936a-4ced-a945-723d4e033173",
   "metadata": {},
   "outputs": [
    {
     "name": "stdout",
     "output_type": "stream",
     "text": [
      "Shape of x1:  (3,)\n",
      "[1 2 3]\n",
      "---------------------\n",
      "Shape of x2:  (3, 1)\n",
      "[[1]\n",
      " [2]\n",
      " [3]]\n",
      "-----------------------\n",
      "[[2 3 4]\n",
      " [3 4 5]\n",
      " [4 5 6]]\n"
     ]
    }
   ],
   "source": [
    "x1 = np.array([1,2,3,])\n",
    "print(\"Shape of x1: \",x1.shape)\n",
    "print(x1)\n",
    "\n",
    "print(\"---------------------\")\n",
    "\n",
    "x2 = np.array([[1], [2], [3]])\n",
    "print(\"Shape of x2: \",x2.shape)\n",
    "print(x2)\n",
    "\n",
    "print(\"-----------------------\")\n",
    "\n",
    "print(x1 + x2)"
   ]
  }
 ],
 "metadata": {
  "kernelspec": {
   "display_name": "Python 3 (ipykernel)",
   "language": "python",
   "name": "python3"
  },
  "language_info": {
   "codemirror_mode": {
    "name": "ipython",
    "version": 3
   },
   "file_extension": ".py",
   "mimetype": "text/x-python",
   "name": "python",
   "nbconvert_exporter": "python",
   "pygments_lexer": "ipython3",
   "version": "3.12.5"
  }
 },
 "nbformat": 4,
 "nbformat_minor": 5
}
