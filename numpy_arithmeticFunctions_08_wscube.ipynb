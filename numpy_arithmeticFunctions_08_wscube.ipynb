{
 "cells": [
  {
   "cell_type": "code",
   "execution_count": 1,
   "id": "50a53372-61b9-46aa-8181-1a02d00be7d5",
   "metadata": {},
   "outputs": [],
   "source": [
    "import numpy as np"
   ]
  },
  {
   "cell_type": "markdown",
   "id": "65fe08d7-8b3b-478a-aaff-7f89c90c5ea7",
   "metadata": {},
   "source": [
    "# Arithmetic Functions -->"
   ]
  },
  {
   "cell_type": "raw",
   "id": "b465c5ae-3964-4f97-8fbc-c965c9029646",
   "metadata": {},
   "source": [
    "np.min(x) --> min value\n",
    "np.max(x)\n",
    "np.argmin(x) --> index of min\n",
    "np.sqrt(x)\n",
    "np.sin(x)\n",
    "np.cos(x)\n",
    "np.cumsum(x) --> sum of all previous element along with current element"
   ]
  },
  {
   "cell_type": "code",
   "execution_count": 7,
   "id": "d2f7e06d-6cb1-413e-bb8c-d46523162a6b",
   "metadata": {},
   "outputs": [
    {
     "name": "stdout",
     "output_type": "stream",
     "text": [
      "Min:  3 5\n",
      "Max:  191 0\n"
     ]
    }
   ],
   "source": [
    "x = np.array([191,5,21,7,154,3])\n",
    "\n",
    "print(\"Min: \", np.min(x), np.argmin(x)) # give min value and index of it\n",
    "print(\"Max: \", np.max(x), np.argmax(x))"
   ]
  },
  {
   "cell_type": "raw",
   "id": "c4822777-b75b-4ce4-b7b5-33cbebf9f207",
   "metadata": {},
   "source": [
    "axis = 0 (col)\n",
    "axis = 1 (row)"
   ]
  },
  {
   "cell_type": "code",
   "execution_count": 10,
   "id": "e76a4412-92cf-4c4e-b6c0-de16fbbe25bf",
   "metadata": {},
   "outputs": [
    {
     "name": "stdout",
     "output_type": "stream",
     "text": [
      "[2 1 3]\n"
     ]
    }
   ],
   "source": [
    "x = np.array([[2,1,3], [9,5,6]])\n",
    "\n",
    "print(np.min(x, axis=0)) # find min in each col"
   ]
  },
  {
   "cell_type": "code",
   "execution_count": 12,
   "id": "af711cac-80ff-4587-964b-bda06703cae2",
   "metadata": {},
   "outputs": [
    {
     "name": "stdout",
     "output_type": "stream",
     "text": [
      "[ 1  3  6 10]\n"
     ]
    }
   ],
   "source": [
    "x = np.array([1,2,3,4])\n",
    "\n",
    "ans = np.cumsum(x) # sum of all previous element along with current element\n",
    "\n",
    "print(ans)"
   ]
  }
 ],
 "metadata": {
  "kernelspec": {
   "display_name": "Python 3 (ipykernel)",
   "language": "python",
   "name": "python3"
  },
  "language_info": {
   "codemirror_mode": {
    "name": "ipython",
    "version": 3
   },
   "file_extension": ".py",
   "mimetype": "text/x-python",
   "name": "python",
   "nbconvert_exporter": "python",
   "pygments_lexer": "ipython3",
   "version": "3.12.5"
  }
 },
 "nbformat": 4,
 "nbformat_minor": 5
}
